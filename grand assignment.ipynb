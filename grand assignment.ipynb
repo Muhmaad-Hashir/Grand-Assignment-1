{
 "cells": [
  {
   "cell_type": "markdown",
   "id": "5207071b",
   "metadata": {},
   "source": [
    "# Assign a message to a variable and then print that message"
   ]
  },
  {
   "cell_type": "code",
   "execution_count": 1,
   "id": "f7dedb6e",
   "metadata": {},
   "outputs": [
    {
     "name": "stdout",
     "output_type": "stream",
     "text": [
      "Hello python\n"
     ]
    }
   ],
   "source": [
    "message = \"Hello python\"\n",
    "print(message)"
   ]
  },
  {
   "cell_type": "markdown",
   "id": "fbdea386",
   "metadata": {},
   "source": [
    "# Find a quote from a famous person you admire. Print the quote and the name of its author. Your output should look something like the following, including the quotation marks:"
   ]
  },
  {
   "cell_type": "code",
   "execution_count": 9,
   "id": "785b540d",
   "metadata": {},
   "outputs": [
    {
     "name": "stdout",
     "output_type": "stream",
     "text": [
      "quaid e azam once said, \"Expect the best, prepare for the worst\"\n"
     ]
    }
   ],
   "source": [
    "quote = \"quaid e azam once said, \"\n",
    "quote2 = \"Expect the best, prepare for the worst\"\n",
    "print(quote,'\"',quote2,'\"', sep='')"
   ]
  },
  {
   "cell_type": "markdown",
   "id": "d5ce2fb8",
   "metadata": {},
   "source": [
    "# Write a Python program which accepts the radius of a circle from the user and compute the area.\n",
    "\n",
    "Program Console Sample Output 1:\n",
    "\n",
    "Input Radius: 0.5\n",
    "\n",
    "Area of Circle with radius 0.5 is 0.7853981634"
   ]
  },
  {
   "cell_type": "code",
   "execution_count": 2,
   "id": "94f70ca5",
   "metadata": {},
   "outputs": [
    {
     "name": "stdout",
     "output_type": "stream",
     "text": [
      "Enter the radius of the circle : 6\n",
      "Input Radius: 6.0\n",
      "Area of Circle with radius 6.0 is 113.112\n"
     ]
    }
   ],
   "source": [
    "radius = float(input(\"Enter the radius of the circle : \"))\n",
    "area = (3.142)*(radius)*(radius)\n",
    "print(\"Input Radius:\",radius)\n",
    "print(\"Area of Circle with radius\",radius,\"is\",area)"
   ]
  },
  {
   "cell_type": "markdown",
   "id": "85963aca",
   "metadata": {},
   "source": [
    "# Check Number either positive, negative or zero::\n",
    "Write a Python program to check if a number is positive,\n",
    "\n",
    "negative or zero\n",
    "\n",
    "Program Console Sample Output 1:\n",
    "\n",
    "Enter Number: -1\n",
    "\n",
    "Negative Number Entered\n",
    "\n",
    "Program Console Sample Output 2:\n",
    "\n",
    "Integer: 3\n",
    "\n",
    "Positive Number Entered\n",
    "\n",
    "Program Console Sample Output 3:\n",
    "\n",
    "Integer: 0\n",
    "\n",
    "Zero Entered"
   ]
  },
  {
   "cell_type": "code",
   "execution_count": 5,
   "id": "3afef151",
   "metadata": {},
   "outputs": [
    {
     "name": "stdout",
     "output_type": "stream",
     "text": [
      "Please Enter any number : 0\n",
      "zero Entered\n"
     ]
    }
   ],
   "source": [
    "number = int(input(\"Please Enter any number : \"))\n",
    "if number == 0:\n",
    "    print(\"zero Entered\")\n",
    "elif number > 0:\n",
    "    print(\"Positive number Entered\")\n",
    "else:\n",
    "    print(\"Negative Number Entered\")"
   ]
  },
  {
   "cell_type": "markdown",
   "id": "03629b24",
   "metadata": {},
   "source": [
    "# Vowel Tester Write a Python program to test whether a passed letter is a vowel or not\n",
    "Program Console Output 1:\n",
    "\n",
    "Enter a character: A\n",
    "\n",
    "Letter A is Vowel\n",
    "\n",
    "Program Console Output 2:\n",
    "\n",
    "Enter a character: e\n",
    "\n",
    "Letter e is Vowel\n",
    "\n",
    "Program Console Output 2:\n",
    "\n",
    "Enter a character: N\n",
    "\n",
    "Letter N is not Vowel.\n",
    "\n"
   ]
  },
  {
   "cell_type": "code",
   "execution_count": 9,
   "id": "6bf55242",
   "metadata": {},
   "outputs": [
    {
     "name": "stdout",
     "output_type": "stream",
     "text": [
      "Enter any letter : U\n",
      "Letter U is Vowel\n"
     ]
    }
   ],
   "source": [
    "vowel = input(\"Enter any letter : \")\n",
    "if vowel == 'A' or vowel == \"a\" or vowel == 'E' or vowel == 'e' or vowel == 'I' or vowel == 'i' or vowel == 'O' or vowel == 'o' or vowel == 'U' or vowel == 'u':\n",
    "    print('Letter',vowel,\"is Vowel\")\n",
    "else:\n",
    "    print(\"Letter\",vowel,\"is not vowel\")"
   ]
  },
  {
   "cell_type": "markdown",
   "id": "f485241c",
   "metadata": {},
   "source": [
    "# BMI Calculator\n",
    "Write a Python program to calculate body mass index Program Console Sample 1:\n",
    "\n",
    "Enter Height in Cm: 180\n",
    "\n",
    "Enter Weight in Kg: 75\n",
    "\n",
    "Your BMI is 23.15"
   ]
  },
  {
   "cell_type": "code",
   "execution_count": 1,
   "id": "56e48194",
   "metadata": {},
   "outputs": [
    {
     "name": "stdout",
     "output_type": "stream",
     "text": [
      "Enter height in cm : 180\n",
      "Enter weight in kg : 75\n",
      "Your BMI is 23.148148148148145\n"
     ]
    }
   ],
   "source": [
    "height = int(input('Enter height in cm : '))\n",
    "weight = int(input('Enter weight in kg : '))\n",
    "height_m = height / 100\n",
    "bmi = weight / (height_m * height_m)\n",
    "print('Your BMI is',bmi)"
   ]
  },
  {
   "cell_type": "markdown",
   "id": "d718ffe3",
   "metadata": {},
   "source": [
    "# Store the names of a few of your friends in a list called names\n",
    "\n",
    "Print each person’s name by accessing each element in the list, one at a time."
   ]
  },
  {
   "cell_type": "code",
   "execution_count": 2,
   "id": "dcd82e24",
   "metadata": {},
   "outputs": [
    {
     "name": "stdout",
     "output_type": "stream",
     "text": [
      "kamil\n",
      "owais\n",
      "bilal\n",
      "huzaifa\n",
      "umar\n"
     ]
    }
   ],
   "source": [
    "friends = ['kamil' , 'owais' ,  'bilal' , 'huzaifa' , 'umar']\n",
    "print(friends[0])\n",
    "print(friends[1])\n",
    "print(friends[2])\n",
    "print(friends[3])\n",
    "print(friends[4])"
   ]
  },
  {
   "cell_type": "markdown",
   "id": "3a3c6b7a",
   "metadata": {},
   "source": [
    "# Start with the list you used in Question 4, but instead of just printing each person’s name, print a message to them. The text of each message should be the same, but each message should be personalized with the person’s name.\n"
   ]
  },
  {
   "cell_type": "code",
   "execution_count": 3,
   "id": "d8d9e97a",
   "metadata": {},
   "outputs": [
    {
     "name": "stdout",
     "output_type": "stream",
     "text": [
      "kamil got 3 GPA in University \n",
      "owais got 3 GPA in University \n",
      "bilal got 3 GPA in University \n",
      "huzaifa got 3 GPA in University \n",
      "umar got 3 GPA in University \n"
     ]
    }
   ],
   "source": [
    "for friend in friends:\n",
    "    print(friend,\"got 3 GPA in University \")"
   ]
  },
  {
   "cell_type": "markdown",
   "id": "cb97c492",
   "metadata": {},
   "source": [
    "# 10.Make a python program that conatains your nine favourite dishes in a list called foods. Print the message, The first three items in the list are:\n",
    "\n",
    "Then use a slice to print the first three items from that program’s list.\n",
    "\n",
    "Print the message, Three items from the middle of the list are:\n",
    "\n",
    "Use a slice to print three items from the middle of the list.\n",
    "\n",
    "Print the message, The last three items in the list are:\n",
    "\n",
    "Use a slice to print the last three items in the list."
   ]
  },
  {
   "cell_type": "code",
   "execution_count": 26,
   "id": "4f159c16",
   "metadata": {},
   "outputs": [
    {
     "name": "stdout",
     "output_type": "stream",
     "text": [
      "The first three items in the list are ['biryani', 'burger', 'pizza']\n",
      "Three items from the middle of the list are ['pasta', 'macroni', 'spheghetti']\n",
      "The last three items in the list are ['nuggets', 'corn', 'mommos']\n"
     ]
    }
   ],
   "source": [
    "foods = ['biryani','burger','pizza','pasta','macroni','spheghetti','nuggets','corn','mommos']\n",
    "print('The first three items in the list are',foods[0:3])\n",
    "print('Three items from the middle of the list are',foods[3:6])\n",
    "print('The last three items in the list are',foods[6:])\n"
   ]
  },
  {
   "cell_type": "markdown",
   "id": "b2d5be20",
   "metadata": {},
   "source": [
    "# Start with your program from your last Question8. Make a copy of the list of foods, and call it friend_foods. Then, do the following:\n",
    "Add a new dish to the original list.\n",
    "\n",
    "Add a different dish to the list friend_foods.\n",
    "\n",
    "Prove that you have two separate lists.\n",
    "\n",
    "Print the message, My favorite pizzas are: and then use a for loop to print the first list.\n",
    "\n",
    "Print the message,\n",
    "\n",
    "My friend’s favorite foods are:, and then use a for loop to print the second list.\n",
    "\n",
    "NOTE: Make sure each new dish is stored in the appropriate list."
   ]
  },
  {
   "cell_type": "code",
   "execution_count": 27,
   "id": "5a68abf9",
   "metadata": {},
   "outputs": [
    {
     "name": "stdout",
     "output_type": "stream",
     "text": [
      "['biryani', 'burger', 'pizza', 'pasta', 'macroni', 'spheghetti', 'nuggets', 'corn', 'mommos', 'tikka']\n",
      "['biryani', 'burger', 'pizza', 'pasta', 'macroni', 'spheghetti', 'nuggets', 'corn', 'mommos', 'chargha']\n"
     ]
    }
   ],
   "source": [
    "friends_food = foods[0:9]\n",
    "foods.append(\"tikka\")\n",
    "friends_food.append(\"chargha\")\n",
    "print(foods)\n",
    "print(friends_food)"
   ]
  },
  {
   "cell_type": "code",
   "execution_count": 29,
   "id": "49226a1d",
   "metadata": {},
   "outputs": [
    {
     "name": "stdout",
     "output_type": "stream",
     "text": [
      "My favirate pizzas are : \n",
      "biryani\n",
      "burger\n",
      "pizza\n",
      "pasta\n",
      "macroni\n",
      "spheghetti\n",
      "nuggets\n",
      "corn\n",
      "mommos\n",
      "tikka\n"
     ]
    }
   ],
   "source": [
    "print(\"My favirate foods are : \")\n",
    "for items in foods:\n",
    "    print(items)"
   ]
  },
  {
   "cell_type": "code",
   "execution_count": 30,
   "id": "0f219cac",
   "metadata": {},
   "outputs": [
    {
     "name": "stdout",
     "output_type": "stream",
     "text": [
      "My friends favirate foods are : \n",
      "biryani\n",
      "burger\n",
      "pizza\n",
      "pasta\n",
      "macroni\n",
      "spheghetti\n",
      "nuggets\n",
      "corn\n",
      "mommos\n",
      "chargha\n"
     ]
    }
   ],
   "source": [
    "print(\"My friends favirate foods are : \")\n",
    "for item in friends_food:\n",
    "    print(item)"
   ]
  }
 ],
 "metadata": {
  "kernelspec": {
   "display_name": "Python 3 (ipykernel)",
   "language": "python",
   "name": "python3"
  },
  "language_info": {
   "codemirror_mode": {
    "name": "ipython",
    "version": 3
   },
   "file_extension": ".py",
   "mimetype": "text/x-python",
   "name": "python",
   "nbconvert_exporter": "python",
   "pygments_lexer": "ipython3",
   "version": "3.9.12"
  }
 },
 "nbformat": 4,
 "nbformat_minor": 5
}
